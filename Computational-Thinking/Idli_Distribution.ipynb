{
  "nbformat": 4,
  "nbformat_minor": 0,
  "metadata": {
    "colab": {
      "provenance": []
    },
    "kernelspec": {
      "name": "python3",
      "display_name": "Python 3"
    },
    "language_info": {
      "name": "python"
    }
  },
  "cells": [
    {
      "cell_type": "code",
      "execution_count": 17,
      "metadata": {
        "colab": {
          "base_uri": "https://localhost:8080/"
        },
        "id": "42NVJHDoCzVR",
        "outputId": "0bfc3631-4a67-4ddc-8416-0ac9208a1d14"
      },
      "outputs": [
        {
          "output_type": "stream",
          "name": "stdout",
          "text": [
            "Test Case 1: Input: [1, 2, 3, 4, 5], Expected Output: -1, Actual Output: -1\n",
            "Test Case 2: Input: [2, 2, 2, 2, 2], Expected Output: 0, Actual Output: 0\n",
            "Test Case 3: Input: [2, 4, 2, 4, 4, 6], Expected Output: 4, Actual Output: 4\n",
            "Test Case 4: Input: [2, 4, 5], Expected Output: -1, Actual Output: -1\n",
            "Test Case 5: Input: [2, 3, 4, 5, 6], Expected Output: -1, Actual Output: -1\n"
          ]
        }
      ],
      "source": [
        "def distribute_idlis(idlis):\n",
        "    if not idlis:\n",
        "        return 0  # If the input list is empty, no idlis need to be distributed\n",
        "\n",
        "    total_idlis = 0  # Initialize the total idlis distributed\n",
        "    n = len(idlis)   # Get the number of citizens\n",
        "\n",
        "    # Iterate through each citizen\n",
        "    for i in range(n):\n",
        "        # Check if the current citizen needs additional idlis to make the count even\n",
        "        if idlis[i] % 2 != 0:\n",
        "            # If it's the last citizen or the person behind has an even number of idlis,\n",
        "            # it's impossible to distribute idlis evenly.\n",
        "            if i == n - 1 or idlis[i + 1] % 2 == 0:\n",
        "                return -1\n",
        "            else:\n",
        "                # Distribute idlis until both the current citizen and the one behind have an even count\n",
        "                idlis[i] += 1\n",
        "                idlis[i + 1] += 1\n",
        "                total_idlis += 2  # Update the total idlis distributed\n",
        "\n",
        "    return total_idlis  # Return the total number of idlis distributed\n",
        "\n",
        "# Test cases and expected outputs\n",
        "test_cases = [\n",
        "    ([1, 2, 3, 4, 5], -1),   # Expected output: -1, impossible to distribute idlis evenly\n",
        "    ([2, 2, 2, 2, 2], 0),     # Expected output: 0, no idlis need to be distributed\n",
        "    ([1, 3, 2, 4, 3, 5], 4),  # Expected output: 4, idlis distributed to make counts even: [2, 2, 2, 4, 4, 6]\n",
        "    ([1, 3, 5], -1),          # Expected output: -1, impossible to distribute idlis evenly\n",
        "    ([2, 3, 4, 5, 6], -1)     # Expected output: -1, impossible to distribute idlis evenly\n",
        "]\n",
        "\n",
        "# Run the test cases\n",
        "for idx, (input_list, expected_output) in enumerate(test_cases, start=1):\n",
        "    result = distribute_idlis(input_list)\n",
        "    print(f\"Test Case {idx}: Input: {input_list}, Expected Output: {expected_output}, Actual Output: {result}\")\n"
      ]
    }
  ]
}