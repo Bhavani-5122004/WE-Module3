{
  "nbformat": 4,
  "nbformat_minor": 0,
  "metadata": {
    "colab": {
      "provenance": []
    },
    "kernelspec": {
      "name": "python3",
      "display_name": "Python 3"
    },
    "language_info": {
      "name": "python"
    }
  },
  "cells": [
    {
      "cell_type": "code",
      "execution_count": 83,
      "metadata": {
        "colab": {
          "base_uri": "https://localhost:8080/"
        },
        "id": "9ozgs5uAlhdW",
        "outputId": "15ce25bf-406e-4771-b5f4-37b6221c7e37"
      },
      "outputs": [
        {
          "output_type": "stream",
          "name": "stdout",
          "text": [
            "She sells seashells by the seashore. Peter Piper picked a peck of\n"
          ]
        }
      ],
      "source": [
        "import random\n",
        "\n",
        "def generate(filename: str, start_words: list[str], chain_length: int, num_generated: int) -> str:\n",
        "    with open(filename, 'r', encoding='utf-8') as file:\n",
        "        text = file.read()\n",
        "\n",
        "    words = text.split()\n",
        "    word_dict = {}\n",
        "\n",
        "    # Build the Markov chain dictionary\n",
        "    for i in range(len(words) - chain_length):\n",
        "        key = tuple(words[i:i + chain_length])\n",
        "        value = words[i + chain_length]\n",
        "        if key in word_dict:\n",
        "            word_dict[key].append(value)\n",
        "        else:\n",
        "            word_dict[key] = [value]\n",
        "\n",
        "    # Generate text\n",
        "    current_words = start_words.copy()\n",
        "    generated_text = ' '.join(current_words)\n",
        "\n",
        "    for _ in range(num_generated):\n",
        "        key = tuple(current_words)\n",
        "        if key in word_dict:\n",
        "            next_word = random.choice(word_dict[key])\n",
        "        else:\n",
        "            next_word = random.choice(words)  # If the key is not found, choose a random word\n",
        "        generated_text += ' ' + next_word\n",
        "        current_words = current_words[1:] + [next_word]\n",
        "\n",
        "    return generated_text\n",
        "\n",
        "# Example usage:\n",
        "filename = 'input.txt'\n",
        "start_words = ['She', 'sells']\n",
        "chain_length = 2\n",
        "num_generated = 10\n",
        "\n",
        "generated_sentence = generate(filename, start_words, chain_length, num_generated)\n",
        "print(generated_sentence)\n"
      ]
    },
    {
      "cell_type": "code",
      "source": [
        "# Test cases\n",
        "filename = 'input.txt'\n",
        "\n",
        "# Test Case 1\n",
        "start_words_1 = ['She', 'sells']\n",
        "chain_length_1 = 2\n",
        "num_generated_1 = 10\n",
        "expected_output_1 = \"She sells seashells by the seashore. Peter Piper picked a peck of\"\n",
        "generated_sentence_1 = generate(filename, start_words_1, chain_length_1, num_generated_1)\n",
        "assert generated_sentence_1 == expected_output_1\n",
        "\n",
        "# Test Case 2\n",
        "start_words_2 = ['The', 'quick']\n",
        "chain_length_2 = 2\n",
        "num_generated_2 = 10\n",
        "expected_output_2 = \"The quick brown fox jumps over the lazy dog. She sells seashells\"\n",
        "generated_sentence_2 = generate(filename, start_words_2, chain_length_2, num_generated_2)\n",
        "assert generated_sentence_2 == expected_output_2\n",
        "\n",
        "# Test Case 3\n",
        "start_words_3 = ['How', 'much']\n",
        "chain_length_3 = 2\n",
        "num_generated_3 = 4\n",
        "expected_output_3 = \"How much wood would a woodchuck\"\n",
        "generated_sentence_3 = generate(filename, start_words_3, chain_length_3, num_generated_3)\n",
        "assert generated_sentence_3 == expected_output_3\n",
        "\n",
        "print(\"All test cases passed!\")\n",
        "\n"
      ],
      "metadata": {
        "colab": {
          "base_uri": "https://localhost:8080/"
        },
        "id": "DhRBhyyKogfX",
        "outputId": "4b3eb7e6-f846-47bb-bbd4-55049f6b7d17"
      },
      "execution_count": 84,
      "outputs": [
        {
          "output_type": "stream",
          "name": "stdout",
          "text": [
            "All test cases passed!\n"
          ]
        }
      ]
    }
  ]
}